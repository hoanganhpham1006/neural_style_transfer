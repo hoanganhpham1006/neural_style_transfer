{
 "cells": [
  {
   "cell_type": "code",
   "execution_count": 1,
   "metadata": {},
   "outputs": [],
   "source": [
    "from tensorflow.keras.applications import vgg19\n",
    "from tensorflow.keras.preprocessing.image import load_img, save_img, img_to_array\n",
    "from tensorflow.keras import backend as K\n",
    "import numpy as np\n",
    "from scipy.optimize import fmin_l_bfgs_b\n",
    "import time"
   ]
  },
  {
   "cell_type": "code",
   "execution_count": 2,
   "metadata": {},
   "outputs": [],
   "source": [
    "img_nrows = 224\n",
    "img_ncols = 224\n",
    "base_image_path = 'origin_2.jpg'\n",
    "style_reference_image_path = 'style_3.jpg'\n",
    "content_weight = 0.025\n",
    "style_weight = 1\n",
    "total_variation_weight = 1\n",
    "iterations = 10"
   ]
  },
  {
   "cell_type": "code",
   "execution_count": 3,
   "metadata": {},
   "outputs": [],
   "source": [
    "def preprocess_image(image_path):\n",
    "    img = load_img(image_path, target_size=(img_nrows, img_ncols))\n",
    "    img = img_to_array(img)\n",
    "    img = np.expand_dims(img, axis=0)\n",
    "    img = vgg19.preprocess_input(img)\n",
    "    return img"
   ]
  },
  {
   "cell_type": "code",
   "execution_count": 4,
   "metadata": {},
   "outputs": [
    {
     "name": "stdout",
     "output_type": "stream",
     "text": [
      "WARNING:tensorflow:From /home/pham.hoang.anh/virtualenv/segmentation/lib/python3.5/site-packages/tensorflow/python/ops/resource_variable_ops.py:435: colocate_with (from tensorflow.python.framework.ops) is deprecated and will be removed in a future version.\n",
      "Instructions for updating:\n",
      "Colocations handled automatically by placer.\n"
     ]
    }
   ],
   "source": [
    "# get tensor representations of our images\n",
    "base_image = K.variable(preprocess_image(base_image_path))\n",
    "style_reference_image = K.variable(preprocess_image(style_reference_image_path))\n",
    "combination_image = K.placeholder((1, img_nrows, img_ncols, 3))"
   ]
  },
  {
   "cell_type": "code",
   "execution_count": 5,
   "metadata": {},
   "outputs": [],
   "source": [
    "input_tensor = K.concatenate([base_image,\n",
    "                              style_reference_image,\n",
    "                              combination_image], axis=0)"
   ]
  },
  {
   "cell_type": "code",
   "execution_count": 6,
   "metadata": {},
   "outputs": [],
   "source": [
    "model = vgg19.VGG19(input_tensor=input_tensor, weights='imagenet')\n",
    "\n",
    "outputs_dict = dict([(layer.name, layer.output) for layer in model.layers])"
   ]
  },
  {
   "cell_type": "code",
   "execution_count": 7,
   "metadata": {},
   "outputs": [
    {
     "name": "stdout",
     "output_type": "stream",
     "text": [
      "_________________________________________________________________\n",
      "Layer (type)                 Output Shape              Param #   \n",
      "=================================================================\n",
      "input_1 (InputLayer)         (3, 224, 224, 3)          0         \n",
      "_________________________________________________________________\n",
      "block1_conv1 (Conv2D)        (3, 224, 224, 64)         1792      \n",
      "_________________________________________________________________\n",
      "block1_conv2 (Conv2D)        (3, 224, 224, 64)         36928     \n",
      "_________________________________________________________________\n",
      "block1_pool (MaxPooling2D)   (3, 112, 112, 64)         0         \n",
      "_________________________________________________________________\n",
      "block2_conv1 (Conv2D)        (3, 112, 112, 128)        73856     \n",
      "_________________________________________________________________\n",
      "block2_conv2 (Conv2D)        (3, 112, 112, 128)        147584    \n",
      "_________________________________________________________________\n",
      "block2_pool (MaxPooling2D)   (3, 56, 56, 128)          0         \n",
      "_________________________________________________________________\n",
      "block3_conv1 (Conv2D)        (3, 56, 56, 256)          295168    \n",
      "_________________________________________________________________\n",
      "block3_conv2 (Conv2D)        (3, 56, 56, 256)          590080    \n",
      "_________________________________________________________________\n",
      "block3_conv3 (Conv2D)        (3, 56, 56, 256)          590080    \n",
      "_________________________________________________________________\n",
      "block3_conv4 (Conv2D)        (3, 56, 56, 256)          590080    \n",
      "_________________________________________________________________\n",
      "block3_pool (MaxPooling2D)   (3, 28, 28, 256)          0         \n",
      "_________________________________________________________________\n",
      "block4_conv1 (Conv2D)        (3, 28, 28, 512)          1180160   \n",
      "_________________________________________________________________\n",
      "block4_conv2 (Conv2D)        (3, 28, 28, 512)          2359808   \n",
      "_________________________________________________________________\n",
      "block4_conv3 (Conv2D)        (3, 28, 28, 512)          2359808   \n",
      "_________________________________________________________________\n",
      "block4_conv4 (Conv2D)        (3, 28, 28, 512)          2359808   \n",
      "_________________________________________________________________\n",
      "block4_pool (MaxPooling2D)   (3, 14, 14, 512)          0         \n",
      "_________________________________________________________________\n",
      "block5_conv1 (Conv2D)        (3, 14, 14, 512)          2359808   \n",
      "_________________________________________________________________\n",
      "block5_conv2 (Conv2D)        (3, 14, 14, 512)          2359808   \n",
      "_________________________________________________________________\n",
      "block5_conv3 (Conv2D)        (3, 14, 14, 512)          2359808   \n",
      "_________________________________________________________________\n",
      "block5_conv4 (Conv2D)        (3, 14, 14, 512)          2359808   \n",
      "_________________________________________________________________\n",
      "block5_pool (MaxPooling2D)   (3, 7, 7, 512)            0         \n",
      "_________________________________________________________________\n",
      "flatten (Flatten)            (3, 25088)                0         \n",
      "_________________________________________________________________\n",
      "fc1 (Dense)                  (3, 4096)                 102764544 \n",
      "_________________________________________________________________\n",
      "fc2 (Dense)                  (3, 4096)                 16781312  \n",
      "_________________________________________________________________\n",
      "predictions (Dense)          (3, 1000)                 4097000   \n",
      "=================================================================\n",
      "Total params: 143,667,240\n",
      "Trainable params: 143,667,240\n",
      "Non-trainable params: 0\n",
      "_________________________________________________________________\n"
     ]
    }
   ],
   "source": [
    "model.summary()"
   ]
  },
  {
   "cell_type": "code",
   "execution_count": 8,
   "metadata": {},
   "outputs": [],
   "source": [
    "def gram_matrix(x):\n",
    "    features = K.batch_flatten(K.permute_dimensions(x, (2, 0, 1))) #channel first\n",
    "    gram = K.dot(features, K.transpose(features))\n",
    "    return gram"
   ]
  },
  {
   "cell_type": "code",
   "execution_count": 9,
   "metadata": {},
   "outputs": [],
   "source": [
    "def style_loss(style, combination):\n",
    "    S = gram_matrix(style)\n",
    "    C = gram_matrix(combination)\n",
    "    channels = 3\n",
    "    size = img_nrows * img_ncols\n",
    "    return K.sum(K.square(S - C)) / (4.0 * (channels ** 2) * (size ** 2))"
   ]
  },
  {
   "cell_type": "code",
   "execution_count": 10,
   "metadata": {},
   "outputs": [],
   "source": [
    "def content_loss(base, combination):\n",
    "    return K.sum(K.square(combination - base))"
   ]
  },
  {
   "cell_type": "code",
   "execution_count": 11,
   "metadata": {},
   "outputs": [],
   "source": [
    "def total_variation_loss(x):\n",
    "    a = K.square(\n",
    "        x[:, :img_nrows - 1, :img_ncols - 1, :] - x[:, 1:, :img_ncols - 1, :]) #x_dimension\n",
    "    b = K.square(\n",
    "        x[:, :img_nrows - 1, :img_ncols - 1, :] - x[:, :img_nrows - 1, 1:, :]) #y_dimension\n",
    "    return K.sum(K.pow(a + b, 1.25))\n",
    "\n",
    "loss = K.variable(0.0)\n",
    "\n",
    "loss = loss + total_variation_weight * total_variation_loss(combination_image)"
   ]
  },
  {
   "cell_type": "code",
   "execution_count": 12,
   "metadata": {},
   "outputs": [],
   "source": [
    "\n",
    "layer_features = outputs_dict['block5_conv2']\n",
    "\n",
    "base_image_features = layer_features[0, :, :, :] # input.shape = [base, style, combination]\n",
    "combination_features = layer_features[2, :, :, :]\n",
    "loss = loss + content_weight * content_loss(base_image_features,\n",
    "                                      combination_features)"
   ]
  },
  {
   "cell_type": "code",
   "execution_count": 13,
   "metadata": {},
   "outputs": [],
   "source": [
    "feature_layers = ['block1_conv1', 'block2_conv1',\n",
    "                  'block3_conv1', 'block4_conv1',\n",
    "                  'block5_conv1']\n",
    "\n",
    "for layer_name in feature_layers:\n",
    "    layer_features = outputs_dict[layer_name]\n",
    "    style_reference_features = layer_features[1, :, :, :] # input.shape = [base, style, combination]\n",
    "    combination_features = layer_features[2, :, :, :]\n",
    "    sl = style_loss(style_reference_features, combination_features)\n",
    "    loss = loss + (style_weight / len(feature_layers)) * sl # mean of all output extract"
   ]
  },
  {
   "cell_type": "code",
   "execution_count": 14,
   "metadata": {},
   "outputs": [],
   "source": [
    "grads = K.gradients(loss, combination_image)\n",
    "\n",
    "outputs = [loss]\n",
    "outputs += grads #append tuple\n",
    "\n",
    "f_outputs = K.function([combination_image], outputs)\n"
   ]
  },
  {
   "cell_type": "code",
   "execution_count": 15,
   "metadata": {},
   "outputs": [],
   "source": [
    "def eval_loss_and_grads(x):\n",
    "    x = x.reshape((1, img_nrows, img_ncols, 3))\n",
    "    outs = f_outputs([x])\n",
    "    loss_value = outs[0]\n",
    "    if len(outs[1:]) == 1:\n",
    "        grad_values = outs[1].flatten().astype('float64')\n",
    "    else:\n",
    "        grad_values = np.array(outs[1:]).flatten().astype('float64')\n",
    "    return loss_value, grad_values"
   ]
  },
  {
   "cell_type": "code",
   "execution_count": 16,
   "metadata": {},
   "outputs": [],
   "source": [
    "class Evaluator(object):\n",
    "    def __init__(self):\n",
    "        self.loss_value = None\n",
    "        self.grads_values = None\n",
    "    def loss(self, x):\n",
    "        loss_value, grad_values = eval_loss_and_grads(x)\n",
    "        self.loss_value = loss_value\n",
    "        self.grad_values = grad_values\n",
    "        return self.loss_value\n",
    "    def grads(self, x):\n",
    "        grad_values = np.copy(self.grad_values)\n",
    "        self.loss_value = None\n",
    "        self.grad_values = None\n",
    "        return grad_values"
   ]
  },
  {
   "cell_type": "code",
   "execution_count": 17,
   "metadata": {},
   "outputs": [],
   "source": [
    "def deprocess_image(x):\n",
    "    x = x.reshape((img_nrows, img_ncols, 3))\n",
    "    # Remove zero-center by mean pixel\n",
    "    x[:, :, 0] += 103.939\n",
    "    x[:, :, 1] += 116.779\n",
    "    x[:, :, 2] += 123.68\n",
    "    # 'BGR'->'RGB'\n",
    "    x = x[:, :, ::-1]\n",
    "    x = np.clip(x, 0, 255).astype('uint8')\n",
    "    return x"
   ]
  },
  {
   "cell_type": "code",
   "execution_count": null,
   "metadata": {},
   "outputs": [
    {
     "name": "stdout",
     "output_type": "stream",
     "text": [
      "Start of iteration 0\n",
      "Current loss value: 13938958000.0\n",
      "Image saved as res8_at_iteration_0.png\n",
      "Iteration 0 completed in 44s\n",
      "Start of iteration 1\n",
      "Current loss value: 6796858000.0\n",
      "Image saved as res8_at_iteration_1.png\n",
      "Iteration 1 completed in 42s\n",
      "Start of iteration 2\n",
      "Current loss value: 5045186000.0\n",
      "Image saved as res8_at_iteration_2.png\n",
      "Iteration 2 completed in 42s\n",
      "Start of iteration 3\n",
      "Current loss value: 4323467000.0\n",
      "Image saved as res8_at_iteration_3.png\n",
      "Iteration 3 completed in 44s\n",
      "Start of iteration 4\n",
      "Current loss value: 3832209000.0\n",
      "Image saved as res8_at_iteration_4.png\n",
      "Iteration 4 completed in 45s\n",
      "Start of iteration 5\n",
      "Current loss value: 3572564200.0\n",
      "Image saved as res8_at_iteration_5.png\n",
      "Iteration 5 completed in 45s\n",
      "Start of iteration 6\n",
      "Current loss value: 3422592800.0\n",
      "Image saved as res8_at_iteration_6.png\n",
      "Iteration 6 completed in 49s\n",
      "Start of iteration 7\n",
      "Current loss value: 3279102200.0\n",
      "Image saved as res8_at_iteration_7.png\n",
      "Iteration 7 completed in 45s\n",
      "Start of iteration 8\n",
      "Current loss value: 3152372500.0\n",
      "Image saved as res8_at_iteration_8.png\n",
      "Iteration 8 completed in 43s\n",
      "Start of iteration 9\n"
     ]
    }
   ],
   "source": [
    "evaluator = Evaluator()\n",
    "x = preprocess_image(base_image_path)\n",
    "\n",
    "for i in range(iterations):\n",
    "    print('Start of iteration', i)\n",
    "    start_time = time.time()\n",
    "    x, min_val, info = fmin_l_bfgs_b(evaluator.loss, x.flatten(),\n",
    "                                     fprime=evaluator.grads, maxfun=20)\n",
    "    print('Current loss value:', min_val)\n",
    "    # save current generated image\n",
    "    img = deprocess_image(x.copy())\n",
    "    fname = 'res8_at_iteration_%d.png' % i\n",
    "    save_img(fname, img)\n",
    "    end_time = time.time()\n",
    "    print('Image saved as', fname)\n",
    "    print('Iteration %d completed in %ds' % (i, end_time - start_time))"
   ]
  }
 ],
 "metadata": {
  "kernelspec": {
   "display_name": "segmentation",
   "language": "python",
   "name": "segmentation"
  },
  "language_info": {
   "codemirror_mode": {
    "name": "ipython",
    "version": 3
   },
   "file_extension": ".py",
   "mimetype": "text/x-python",
   "name": "python",
   "nbconvert_exporter": "python",
   "pygments_lexer": "ipython3",
   "version": "3.5.2"
  }
 },
 "nbformat": 4,
 "nbformat_minor": 2
}
